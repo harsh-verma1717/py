{
  "nbformat": 4,
  "nbformat_minor": 0,
  "metadata": {
    "colab": {
      "provenance": [],
      "authorship_tag": "ABX9TyOZWu8wFa7PUOLUCKN1HkAw",
      "include_colab_link": true
    },
    "kernelspec": {
      "name": "python3",
      "display_name": "Python 3"
    },
    "language_info": {
      "name": "python"
    }
  },
  "cells": [
    {
      "cell_type": "markdown",
      "metadata": {
        "id": "view-in-github",
        "colab_type": "text"
      },
      "source": [
        "<a href=\"https://colab.research.google.com/github/harsh-verma1717/py/blob/main/Montyhall.ipynb\" target=\"_parent\"><img src=\"https://colab.research.google.com/assets/colab-badge.svg\" alt=\"Open In Colab\"/></a>"
      ]
    },
    {
      "cell_type": "code",
      "source": [
        "\n",
        "game=0\n",
        "win=0\n",
        "door=[1,2,3]\n",
        "while game<1000:\n",
        "  import random\n",
        "  print(\"Door1 Door2 Door3\")\n",
        "  print(\"You have three doors, behind one of these is a brand new car and rest two are empty\")\n",
        "  selected=int(input(\"select any one door\"))\n",
        "\n",
        "\n",
        "\n",
        "  car=random.choice(door)\n",
        "  list2=door.copy()\n",
        "  if selected==car:\n",
        "    list2.remove(car)\n",
        "    reselect=random.choice(list2)\n",
        "    list3=list2.copy()\n",
        "    list3.remove(reselect)\n",
        "    last=list3[0]\n",
        "  else:\n",
        "    list2.remove(selected)\n",
        "    reselect=random.choice(list2)\n",
        "    list3=list2.copy()\n",
        "    list3.remove(reselect)\n",
        "    last=list3[0]\n",
        "\n",
        "  list2=door.copy()\n",
        "\n",
        "  print(\"You have chosen Door\",selected,\"now i open Door\",reselect,\"which is empty\",\"Now you can stay at your orginal choice i.e Door\",selected,\"or switch to Door\",last,)\n",
        "  choice=input(\"input 'y' to switch or 'n' to stay\")\n",
        "  if choice=='n' and last==car:\n",
        "    print(\"Congrats! you got the car\")\n",
        "    win+=1\n",
        "    game+=1\n",
        "  elif choice=='n' and last!=car:\n",
        "    print(\"you have chosen an empty door\")\n",
        "    game+=1\n",
        "  elif choice=='y' and last!=car:\n",
        "    print(\"Congrats! you got the car\")\n",
        "    win+=1\n",
        "    game+=1\n",
        "  elif choice=='y' and last==car:\n",
        "    print(\"you switched to the empty door\")\n",
        "    game+=1\n",
        "  else:\n",
        "    print(\"Please enter the right choice\")\n",
        "\n",
        "  print(\"TOTAL GAMES:\",game)\n",
        "  print(\"TOTAL WINS:\",win)\n",
        "  print(\"win percentage:\",win/game*100)\n",
        "\n",
        "\n",
        "\n"
      ],
      "metadata": {
        "id": "cDNdT8PZLxSQ"
      },
      "execution_count": null,
      "outputs": []
    }
  ]
}